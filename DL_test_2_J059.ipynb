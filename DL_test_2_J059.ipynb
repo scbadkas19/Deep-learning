{
  "nbformat": 4,
  "nbformat_minor": 0,
  "metadata": {
    "colab": {
      "name": "DL_test_2_J059.ipynb",
      "provenance": [],
      "collapsed_sections": [],
      "include_colab_link": true
    },
    "kernelspec": {
      "name": "python3",
      "display_name": "Python 3"
    },
    "accelerator": "GPU"
  },
  "cells": [
    {
      "cell_type": "markdown",
      "metadata": {
        "id": "view-in-github",
        "colab_type": "text"
      },
      "source": [
        "<a href=\"https://colab.research.google.com/github/scbadkas19/Deep-learning/blob/master/DL_test_2_J059.ipynb\" target=\"_parent\"><img src=\"https://colab.research.google.com/assets/colab-badge.svg\" alt=\"Open In Colab\"/></a>"
      ]
    },
    {
      "cell_type": "code",
      "metadata": {
        "id": "p-bzygDJrkDu",
        "colab_type": "code",
        "colab": {}
      },
      "source": [
        "import numpy as np\n",
        "import pandas as pd\n",
        "import cv2\n",
        "import PIL.Image\n",
        "import os"
      ],
      "execution_count": 0,
      "outputs": []
    },
    {
      "cell_type": "markdown",
      "metadata": {
        "id": "aF3SeqY5-zU-",
        "colab_type": "text"
      },
      "source": [
        "# **Loading the data images**"
      ]
    },
    {
      "cell_type": "code",
      "metadata": {
        "id": "u3OWTguxrnOG",
        "colab_type": "code",
        "colab": {}
      },
      "source": [
        "!unzip \"/content/drive/My Drive/Unmerced.zip\""
      ],
      "execution_count": 0,
      "outputs": []
    },
    {
      "cell_type": "markdown",
      "metadata": {
        "id": "t49iLxvo-7vQ",
        "colab_type": "text"
      },
      "source": [
        "# **Preparing the data**"
      ]
    },
    {
      "cell_type": "markdown",
      "metadata": {
        "id": "lsu3P-nC_Ip4",
        "colab_type": "text"
      },
      "source": [
        "# 2.1) Making the functions to get the training and validation set from the Images"
      ]
    },
    {
      "cell_type": "code",
      "metadata": {
        "id": "Bj1LWocIxkRu",
        "colab_type": "code",
        "colab": {}
      },
      "source": [
        "X=[]\n",
        "Z=[]\n",
        "IMG_SIZE=150\n",
        "AGRICULTURAL_DIR='/content/Unmerced/agricultural' \n",
        "AIRPLANE_DIR='/content/Unmerced/airplane'\n",
        "BASEBALLDIAMOND_DIR='/content/Unmerced/baseballdiamond'\n",
        "BEACH_DIR='/content/Unmerced/beach'\n",
        "BUILDINGS_DIR='/content/Unmerced/buildings'\n",
        "CHAPARRAL_DIR='/content/Unmerced/chaparral'\n",
        "DENSERESIDENTIAL_DIR='/content/Unmerced/denseresidential'\n",
        "FOREST_DIR='/content/Unmerced/forest'\n",
        "FREEWAY_DIR='/content/Unmerced/freeway'\n",
        "GOLFCOURSE_DIR='/content/Unmerced/golfcourse'\n",
        "HARBOR_DIR='/content/Unmerced/harbor'\n",
        "INTERSECTION_DIR='/content/Unmerced/intersection'\n",
        "MEDIUMRESIDENTIAL_DIR='/content/Unmerced/mediumresidential'\n",
        "MOBILEHOMEPARK_DIR='/content/Unmerced/mobilehomepark'\n",
        "OVERPASS_DIR='/content/Unmerced/overpass'\n",
        "PARKINGLOT_DIR='/content/Unmerced/parkinglot'\n",
        "RIVER_DIR='/content/Unmerced/river'\n",
        "RUNWAY_DIR='/content/Unmerced/runway'\n",
        "SPARSERESIDENTIAL_DIR='/content/Unmerced/sparseresidential'\n",
        "STORAGETANKS_DIR='/content/Unmerced/storagetanks'\n",
        "TENNISCOURT_DIR='/content/Unmerced/tenniscourt'"
      ],
      "execution_count": 0,
      "outputs": []
    },
    {
      "cell_type": "code",
      "metadata": {
        "id": "D8wCcPnR4pQh",
        "colab_type": "code",
        "colab": {}
      },
      "source": [
        "def assign_label(img,image_type):\n",
        "    return image_type"
      ],
      "execution_count": 0,
      "outputs": []
    },
    {
      "cell_type": "code",
      "metadata": {
        "id": "FQZNJsn84tas",
        "colab_type": "code",
        "colab": {}
      },
      "source": [
        "def make_train_data(image_type,DIR):\n",
        "    for img in tqdm(os.listdir(DIR)):\n",
        "        label=assign_label(img,image_type)\n",
        "        path = os.path.join(DIR,img)\n",
        "        img = cv2.imread(path,cv2.IMREAD_COLOR)\n",
        "        img = cv2.resize(img, (IMG_SIZE,IMG_SIZE))\n",
        "        \n",
        "        X.append(np.array(img))\n",
        "        Z.append(str(label))"
      ],
      "execution_count": 0,
      "outputs": []
    },
    {
      "cell_type": "code",
      "metadata": {
        "id": "0EvBxW6_4vsl",
        "colab_type": "code",
        "colab": {}
      },
      "source": [
        "from tqdm import tqdm"
      ],
      "execution_count": 0,
      "outputs": []
    },
    {
      "cell_type": "code",
      "metadata": {
        "id": "Z8oZCt2h4xr2",
        "colab_type": "code",
        "outputId": "ba9cc850-e142-4289-8136-bcc54772ef22",
        "colab": {
          "base_uri": "https://localhost:8080/",
          "height": 50
        }
      },
      "source": [
        "make_train_data('Agricultural',AGRICULTURAL_DIR)\n",
        "print(len(X))"
      ],
      "execution_count": 0,
      "outputs": [
        {
          "output_type": "stream",
          "text": [
            "100%|██████████| 100/100 [00:00<00:00, 1565.59it/s]"
          ],
          "name": "stderr"
        },
        {
          "output_type": "stream",
          "text": [
            "100\n"
          ],
          "name": "stdout"
        },
        {
          "output_type": "stream",
          "text": [
            "\n"
          ],
          "name": "stderr"
        }
      ]
    },
    {
      "cell_type": "code",
      "metadata": {
        "id": "PGlimA1g43hE",
        "colab_type": "code",
        "outputId": "6db56eb1-7774-4f58-ae95-67b6c1d6d8ab",
        "colab": {
          "base_uri": "https://localhost:8080/",
          "height": 50
        }
      },
      "source": [
        "make_train_data('Airplane',AIRPLANE_DIR)\n",
        "print(len(X))"
      ],
      "execution_count": 0,
      "outputs": [
        {
          "output_type": "stream",
          "text": [
            "100%|██████████| 100/100 [00:00<00:00, 1606.61it/s]"
          ],
          "name": "stderr"
        },
        {
          "output_type": "stream",
          "text": [
            "200\n"
          ],
          "name": "stdout"
        },
        {
          "output_type": "stream",
          "text": [
            "\n"
          ],
          "name": "stderr"
        }
      ]
    },
    {
      "cell_type": "code",
      "metadata": {
        "id": "3q0K3Cph489i",
        "colab_type": "code",
        "outputId": "deb6f12b-491c-4524-f598-b85592af415d",
        "colab": {
          "base_uri": "https://localhost:8080/",
          "height": 50
        }
      },
      "source": [
        "make_train_data('Baseball Diamond',BASEBALLDIAMOND_DIR)\n",
        "print(len(X))"
      ],
      "execution_count": 0,
      "outputs": [
        {
          "output_type": "stream",
          "text": [
            "100%|██████████| 100/100 [00:00<00:00, 1605.26it/s]"
          ],
          "name": "stderr"
        },
        {
          "output_type": "stream",
          "text": [
            "300\n"
          ],
          "name": "stdout"
        },
        {
          "output_type": "stream",
          "text": [
            "\n"
          ],
          "name": "stderr"
        }
      ]
    },
    {
      "cell_type": "code",
      "metadata": {
        "id": "xwlVeNjV4_Do",
        "colab_type": "code",
        "outputId": "6bbe98d4-fe7b-446d-8360-2dfefb4a25ba",
        "colab": {
          "base_uri": "https://localhost:8080/",
          "height": 50
        }
      },
      "source": [
        "make_train_data('Beach',BEACH_DIR)\n",
        "print(len(X))"
      ],
      "execution_count": 0,
      "outputs": [
        {
          "output_type": "stream",
          "text": [
            "100%|██████████| 100/100 [00:00<00:00, 1459.88it/s]"
          ],
          "name": "stderr"
        },
        {
          "output_type": "stream",
          "text": [
            "400\n"
          ],
          "name": "stdout"
        },
        {
          "output_type": "stream",
          "text": [
            "\n"
          ],
          "name": "stderr"
        }
      ]
    },
    {
      "cell_type": "code",
      "metadata": {
        "id": "Jbk2034Q5Lq8",
        "colab_type": "code",
        "outputId": "0353fd08-c821-49f4-8712-e0b7f7b7ed61",
        "colab": {
          "base_uri": "https://localhost:8080/",
          "height": 50
        }
      },
      "source": [
        "make_train_data('Buildings',BUILDINGS_DIR)\n",
        "print(len(X))"
      ],
      "execution_count": 0,
      "outputs": [
        {
          "output_type": "stream",
          "text": [
            "100%|██████████| 100/100 [00:00<00:00, 1371.23it/s]"
          ],
          "name": "stderr"
        },
        {
          "output_type": "stream",
          "text": [
            "500\n"
          ],
          "name": "stdout"
        },
        {
          "output_type": "stream",
          "text": [
            "\n"
          ],
          "name": "stderr"
        }
      ]
    },
    {
      "cell_type": "code",
      "metadata": {
        "id": "HtoA_9w95OC7",
        "colab_type": "code",
        "outputId": "f2df13ff-0c09-49fb-a873-1b8b302291ce",
        "colab": {
          "base_uri": "https://localhost:8080/",
          "height": 50
        }
      },
      "source": [
        "make_train_data('Chaparral',CHAPARRAL_DIR)\n",
        "print(len(X))"
      ],
      "execution_count": 0,
      "outputs": [
        {
          "output_type": "stream",
          "text": [
            "100%|██████████| 100/100 [00:00<00:00, 1624.94it/s]"
          ],
          "name": "stderr"
        },
        {
          "output_type": "stream",
          "text": [
            "600\n"
          ],
          "name": "stdout"
        },
        {
          "output_type": "stream",
          "text": [
            "\n"
          ],
          "name": "stderr"
        }
      ]
    },
    {
      "cell_type": "code",
      "metadata": {
        "id": "K7UEuFPV5PLF",
        "colab_type": "code",
        "outputId": "07cfbcb0-b0c0-4c8b-c0fc-bbfd0ce2f719",
        "colab": {
          "base_uri": "https://localhost:8080/",
          "height": 50
        }
      },
      "source": [
        "make_train_data('Dense Residential',DENSERESIDENTIAL_DIR)\n",
        "print(len(X))"
      ],
      "execution_count": 0,
      "outputs": [
        {
          "output_type": "stream",
          "text": [
            "100%|██████████| 100/100 [00:00<00:00, 1576.34it/s]"
          ],
          "name": "stderr"
        },
        {
          "output_type": "stream",
          "text": [
            "700\n"
          ],
          "name": "stdout"
        },
        {
          "output_type": "stream",
          "text": [
            "\n"
          ],
          "name": "stderr"
        }
      ]
    },
    {
      "cell_type": "code",
      "metadata": {
        "id": "p0QSbXFH5hTS",
        "colab_type": "code",
        "outputId": "54b1f97a-ec57-4e0c-ec1e-10327af25439",
        "colab": {
          "base_uri": "https://localhost:8080/",
          "height": 50
        }
      },
      "source": [
        "make_train_data('Forest',FOREST_DIR)\n",
        "print(len(X))"
      ],
      "execution_count": 0,
      "outputs": [
        {
          "output_type": "stream",
          "text": [
            "100%|██████████| 100/100 [00:00<00:00, 1530.91it/s]"
          ],
          "name": "stderr"
        },
        {
          "output_type": "stream",
          "text": [
            "800\n"
          ],
          "name": "stdout"
        },
        {
          "output_type": "stream",
          "text": [
            "\n"
          ],
          "name": "stderr"
        }
      ]
    },
    {
      "cell_type": "code",
      "metadata": {
        "id": "wNyeJpBe5hwo",
        "colab_type": "code",
        "outputId": "7a5c4c2d-c6c4-4473-8a50-f7bf40cfe703",
        "colab": {
          "base_uri": "https://localhost:8080/",
          "height": 50
        }
      },
      "source": [
        "make_train_data('Freeway',FREEWAY_DIR)\n",
        "print(len(X))"
      ],
      "execution_count": 0,
      "outputs": [
        {
          "output_type": "stream",
          "text": [
            "100%|██████████| 100/100 [00:00<00:00, 1388.79it/s]"
          ],
          "name": "stderr"
        },
        {
          "output_type": "stream",
          "text": [
            "900\n"
          ],
          "name": "stdout"
        },
        {
          "output_type": "stream",
          "text": [
            "\n"
          ],
          "name": "stderr"
        }
      ]
    },
    {
      "cell_type": "code",
      "metadata": {
        "id": "nGnzUx5K53-2",
        "colab_type": "code",
        "outputId": "985b7d5c-07e6-4f39-fc5a-c3fb6c97b596",
        "colab": {
          "base_uri": "https://localhost:8080/",
          "height": 50
        }
      },
      "source": [
        "make_train_data('Golfcourse',GOLFCOURSE_DIR)\n",
        "print(len(X))"
      ],
      "execution_count": 0,
      "outputs": [
        {
          "output_type": "stream",
          "text": [
            "100%|██████████| 100/100 [00:00<00:00, 1333.83it/s]"
          ],
          "name": "stderr"
        },
        {
          "output_type": "stream",
          "text": [
            "1000\n"
          ],
          "name": "stdout"
        },
        {
          "output_type": "stream",
          "text": [
            "\n"
          ],
          "name": "stderr"
        }
      ]
    },
    {
      "cell_type": "code",
      "metadata": {
        "id": "iNgjHnuZ6LCa",
        "colab_type": "code",
        "outputId": "ca02ba7d-2f54-4591-f172-d0e99189232a",
        "colab": {
          "base_uri": "https://localhost:8080/",
          "height": 50
        }
      },
      "source": [
        "make_train_data('Harbor',HARBOR_DIR)\n",
        "print(len(X))"
      ],
      "execution_count": 0,
      "outputs": [
        {
          "output_type": "stream",
          "text": [
            "100%|██████████| 100/100 [00:00<00:00, 1252.50it/s]"
          ],
          "name": "stderr"
        },
        {
          "output_type": "stream",
          "text": [
            "1100\n"
          ],
          "name": "stdout"
        },
        {
          "output_type": "stream",
          "text": [
            "\n"
          ],
          "name": "stderr"
        }
      ]
    },
    {
      "cell_type": "code",
      "metadata": {
        "id": "oul7FHPp6PlR",
        "colab_type": "code",
        "outputId": "d1aa050d-bafa-4735-b332-dfbe0c4c539d",
        "colab": {
          "base_uri": "https://localhost:8080/",
          "height": 50
        }
      },
      "source": [
        "make_train_data('Intersection',INTERSECTION_DIR)\n",
        "print(len(X))"
      ],
      "execution_count": 0,
      "outputs": [
        {
          "output_type": "stream",
          "text": [
            "100%|██████████| 100/100 [00:00<00:00, 1379.44it/s]"
          ],
          "name": "stderr"
        },
        {
          "output_type": "stream",
          "text": [
            "1200\n"
          ],
          "name": "stdout"
        },
        {
          "output_type": "stream",
          "text": [
            "\n"
          ],
          "name": "stderr"
        }
      ]
    },
    {
      "cell_type": "code",
      "metadata": {
        "id": "cTCOjxmD6UYW",
        "colab_type": "code",
        "outputId": "c73fbcce-ad40-4996-b2e8-0d633af06e60",
        "colab": {
          "base_uri": "https://localhost:8080/",
          "height": 50
        }
      },
      "source": [
        "make_train_data('Medium Residential',MEDIUMRESIDENTIAL_DIR)\n",
        "print(len(X))"
      ],
      "execution_count": 0,
      "outputs": [
        {
          "output_type": "stream",
          "text": [
            "100%|██████████| 100/100 [00:00<00:00, 1331.08it/s]"
          ],
          "name": "stderr"
        },
        {
          "output_type": "stream",
          "text": [
            "1300\n"
          ],
          "name": "stdout"
        },
        {
          "output_type": "stream",
          "text": [
            "\n"
          ],
          "name": "stderr"
        }
      ]
    },
    {
      "cell_type": "code",
      "metadata": {
        "id": "P1KwWifp6Z4G",
        "colab_type": "code",
        "outputId": "767bd7af-c590-48a1-826a-c292c70b40ea",
        "colab": {
          "base_uri": "https://localhost:8080/",
          "height": 50
        }
      },
      "source": [
        "make_train_data('Mobile Home Park',MOBILEHOMEPARK_DIR)\n",
        "print(len(X))"
      ],
      "execution_count": 0,
      "outputs": [
        {
          "output_type": "stream",
          "text": [
            "100%|██████████| 100/100 [00:00<00:00, 1221.67it/s]"
          ],
          "name": "stderr"
        },
        {
          "output_type": "stream",
          "text": [
            "1400\n"
          ],
          "name": "stdout"
        },
        {
          "output_type": "stream",
          "text": [
            "\n"
          ],
          "name": "stderr"
        }
      ]
    },
    {
      "cell_type": "code",
      "metadata": {
        "id": "oYQwhtWu6hYe",
        "colab_type": "code",
        "outputId": "c6db8aa0-6f73-464b-c00e-7e55b431e9d2",
        "colab": {
          "base_uri": "https://localhost:8080/",
          "height": 50
        }
      },
      "source": [
        "make_train_data('Overpass',OVERPASS_DIR)\n",
        "print(len(X))"
      ],
      "execution_count": 0,
      "outputs": [
        {
          "output_type": "stream",
          "text": [
            "100%|██████████| 100/100 [00:00<00:00, 1475.02it/s]"
          ],
          "name": "stderr"
        },
        {
          "output_type": "stream",
          "text": [
            "1500\n"
          ],
          "name": "stdout"
        },
        {
          "output_type": "stream",
          "text": [
            "\n"
          ],
          "name": "stderr"
        }
      ]
    },
    {
      "cell_type": "code",
      "metadata": {
        "id": "_n-9yGXy6raE",
        "colab_type": "code",
        "outputId": "171bfbc9-0e85-4c94-86ec-f1e426b3502c",
        "colab": {
          "base_uri": "https://localhost:8080/",
          "height": 50
        }
      },
      "source": [
        "make_train_data('Parking Lot',PARKINGLOT_DIR)\n",
        "print(len(X))"
      ],
      "execution_count": 0,
      "outputs": [
        {
          "output_type": "stream",
          "text": [
            "100%|██████████| 100/100 [00:00<00:00, 1419.41it/s]"
          ],
          "name": "stderr"
        },
        {
          "output_type": "stream",
          "text": [
            "1600\n"
          ],
          "name": "stdout"
        },
        {
          "output_type": "stream",
          "text": [
            "\n"
          ],
          "name": "stderr"
        }
      ]
    },
    {
      "cell_type": "code",
      "metadata": {
        "id": "W7gazX6u6v1V",
        "colab_type": "code",
        "outputId": "2f845c5f-d06e-46db-98f6-ebe0cd11a6c8",
        "colab": {
          "base_uri": "https://localhost:8080/",
          "height": 50
        }
      },
      "source": [
        "make_train_data('River',RIVER_DIR)\n",
        "print(len(X))"
      ],
      "execution_count": 0,
      "outputs": [
        {
          "output_type": "stream",
          "text": [
            "100%|██████████| 100/100 [00:00<00:00, 1404.85it/s]"
          ],
          "name": "stderr"
        },
        {
          "output_type": "stream",
          "text": [
            "1700\n"
          ],
          "name": "stdout"
        },
        {
          "output_type": "stream",
          "text": [
            "\n"
          ],
          "name": "stderr"
        }
      ]
    },
    {
      "cell_type": "code",
      "metadata": {
        "id": "W5WXOGbk6zKM",
        "colab_type": "code",
        "outputId": "af75363e-d97e-4978-d704-4372ebe44f30",
        "colab": {
          "base_uri": "https://localhost:8080/",
          "height": 50
        }
      },
      "source": [
        "make_train_data('Runway',RUNWAY_DIR)\n",
        "print(len(X))"
      ],
      "execution_count": 0,
      "outputs": [
        {
          "output_type": "stream",
          "text": [
            "100%|██████████| 100/100 [00:00<00:00, 1492.07it/s]"
          ],
          "name": "stderr"
        },
        {
          "output_type": "stream",
          "text": [
            "1800\n"
          ],
          "name": "stdout"
        },
        {
          "output_type": "stream",
          "text": [
            "\n"
          ],
          "name": "stderr"
        }
      ]
    },
    {
      "cell_type": "code",
      "metadata": {
        "id": "Xqv7nBV362tC",
        "colab_type": "code",
        "outputId": "5f8c323d-5583-4a3f-ec64-b2aa3158599c",
        "colab": {
          "base_uri": "https://localhost:8080/",
          "height": 50
        }
      },
      "source": [
        "make_train_data('Sparse Residential',SPARSERESIDENTIAL_DIR)\n",
        "print(len(X))"
      ],
      "execution_count": 0,
      "outputs": [
        {
          "output_type": "stream",
          "text": [
            "100%|██████████| 100/100 [00:00<00:00, 1381.77it/s]"
          ],
          "name": "stderr"
        },
        {
          "output_type": "stream",
          "text": [
            "1900\n"
          ],
          "name": "stdout"
        },
        {
          "output_type": "stream",
          "text": [
            "\n"
          ],
          "name": "stderr"
        }
      ]
    },
    {
      "cell_type": "code",
      "metadata": {
        "id": "19In7umf68g7",
        "colab_type": "code",
        "outputId": "bd53d6e5-de85-4612-bc13-3c3ec0c3b0f6",
        "colab": {
          "base_uri": "https://localhost:8080/",
          "height": 50
        }
      },
      "source": [
        "make_train_data('Storage Tanks',STORAGETANKS_DIR)\n",
        "print(len(X))"
      ],
      "execution_count": 0,
      "outputs": [
        {
          "output_type": "stream",
          "text": [
            "100%|██████████| 100/100 [00:00<00:00, 1517.51it/s]"
          ],
          "name": "stderr"
        },
        {
          "output_type": "stream",
          "text": [
            "2000\n"
          ],
          "name": "stdout"
        },
        {
          "output_type": "stream",
          "text": [
            "\n"
          ],
          "name": "stderr"
        }
      ]
    },
    {
      "cell_type": "code",
      "metadata": {
        "id": "6kMMcCm07Hxl",
        "colab_type": "code",
        "outputId": "007e3592-5aa5-4230-cfc5-1c85e75ac350",
        "colab": {
          "base_uri": "https://localhost:8080/",
          "height": 50
        }
      },
      "source": [
        "make_train_data('Tennis Court',TENNISCOURT_DIR)\n",
        "print(len(X))"
      ],
      "execution_count": 0,
      "outputs": [
        {
          "output_type": "stream",
          "text": [
            "100%|██████████| 100/100 [00:00<00:00, 1406.43it/s]"
          ],
          "name": "stderr"
        },
        {
          "output_type": "stream",
          "text": [
            "2100\n"
          ],
          "name": "stdout"
        },
        {
          "output_type": "stream",
          "text": [
            "\n"
          ],
          "name": "stderr"
        }
      ]
    },
    {
      "cell_type": "markdown",
      "metadata": {
        "id": "3JQP5XHH_OHw",
        "colab_type": "text"
      },
      "source": [
        "# **Importing various modules**"
      ]
    },
    {
      "cell_type": "code",
      "metadata": {
        "id": "8uUkE0Mu7MA9",
        "colab_type": "code",
        "outputId": "4301fb40-0d97-4b82-b547-48da56a8187e",
        "colab": {
          "base_uri": "https://localhost:8080/",
          "height": 79
        }
      },
      "source": [
        "# Ignore  the warnings\n",
        "import warnings\n",
        "warnings.filterwarnings('always')\n",
        "warnings.filterwarnings('ignore')\n",
        "\n",
        "# data visualisation and manipulation\n",
        "import numpy as np\n",
        "import pandas as pd\n",
        "import matplotlib.pyplot as plt\n",
        "from matplotlib import style\n",
        "import seaborn as sns\n",
        " \n",
        "#configure\n",
        "# sets matplotlib to inline and displays graphs below the corressponding cell.\n",
        "%matplotlib inline  \n",
        "style.use('fivethirtyeight')\n",
        "sns.set(style='whitegrid',color_codes=True)\n",
        "\n",
        "#model selection\n",
        "from sklearn.model_selection import train_test_split\n",
        "from sklearn.model_selection import KFold\n",
        "from sklearn.metrics import accuracy_score,precision_score,recall_score,confusion_matrix,roc_curve,roc_auc_score\n",
        "from sklearn.model_selection import GridSearchCV\n",
        "from sklearn.preprocessing import LabelEncoder\n",
        "\n",
        "#preprocess.\n",
        "from keras.preprocessing.image import ImageDataGenerator\n",
        "\n",
        "#dl libraraies\n",
        "from keras import backend as K\n",
        "from keras.models import Sequential\n",
        "from keras.layers import Dense\n",
        "from keras.optimizers import Adam,SGD,Adagrad,Adadelta,RMSprop\n",
        "from keras.utils import to_categorical\n",
        "\n",
        "# specifically for cnn\n",
        "from keras.layers import Dropout, Flatten,Activation\n",
        "from keras.layers import Conv2D, MaxPooling2D, BatchNormalization\n",
        " \n",
        "import tensorflow as tf\n",
        "import random as rn\n",
        "\n",
        "# specifically for manipulating zipped images and getting numpy arrays of pixel values of images.\n",
        "import cv2                  \n",
        "import numpy as np  \n",
        "from tqdm import tqdm\n",
        "import os                   \n",
        "from random import shuffle  \n",
        "from zipfile import ZipFile\n",
        "from PIL import Image"
      ],
      "execution_count": 0,
      "outputs": [
        {
          "output_type": "stream",
          "text": [
            "Using TensorFlow backend.\n"
          ],
          "name": "stderr"
        },
        {
          "output_type": "display_data",
          "data": {
            "text/html": [
              "<p style=\"color: red;\">\n",
              "The default version of TensorFlow in Colab will soon switch to TensorFlow 2.x.<br>\n",
              "We recommend you <a href=\"https://www.tensorflow.org/guide/migrate\" target=\"_blank\">upgrade</a> now \n",
              "or ensure your notebook will continue to use TensorFlow 1.x via the <code>%tensorflow_version 1.x</code> magic:\n",
              "<a href=\"https://colab.research.google.com/notebooks/tensorflow_version.ipynb\" target=\"_blank\">more info</a>.</p>\n"
            ],
            "text/plain": [
              "<IPython.core.display.HTML object>"
            ]
          },
          "metadata": {
            "tags": []
          }
        }
      ]
    },
    {
      "cell_type": "markdown",
      "metadata": {
        "id": "Kj-SgXwq_Sfp",
        "colab_type": "text"
      },
      "source": [
        "# 2.2 ) Label Encoding the Y array (i.e. agricultural->0, airplane->1 etc...) & then One Hot Encoding"
      ]
    },
    {
      "cell_type": "code",
      "metadata": {
        "id": "qs7-XRaT7Qqt",
        "colab_type": "code",
        "colab": {}
      },
      "source": [
        "le=LabelEncoder()\n",
        "Y=le.fit_transform(Z)\n",
        "Y=to_categorical(Y,21)\n",
        "X=np.array(X)\n",
        "X=X/255"
      ],
      "execution_count": 0,
      "outputs": []
    },
    {
      "cell_type": "markdown",
      "metadata": {
        "id": "KIXJhD3r_gXo",
        "colab_type": "text"
      },
      "source": [
        "# 2.3) Splitting into Training and Validation Sets"
      ]
    },
    {
      "cell_type": "code",
      "metadata": {
        "id": "rG4oaC4C7V55",
        "colab_type": "code",
        "colab": {}
      },
      "source": [
        "x_train,x_test,y_train,y_test=train_test_split(X,Y,test_size=0.25,random_state=42)"
      ],
      "execution_count": 0,
      "outputs": []
    },
    {
      "cell_type": "markdown",
      "metadata": {
        "id": "T9uOEm_w_hy7",
        "colab_type": "text"
      },
      "source": [
        "# 2.4 ) Setting the Random Seeds"
      ]
    },
    {
      "cell_type": "code",
      "metadata": {
        "id": "C7ChBwcv7Zji",
        "colab_type": "code",
        "colab": {}
      },
      "source": [
        "np.random.seed(42)\n",
        "rn.seed(42)\n",
        "tf.set_random_seed(42)"
      ],
      "execution_count": 0,
      "outputs": []
    },
    {
      "cell_type": "markdown",
      "metadata": {
        "id": "lNmnxM9__lWU",
        "colab_type": "text"
      },
      "source": [
        "# **3 ) Modelling**"
      ]
    },
    {
      "cell_type": "markdown",
      "metadata": {
        "id": "Ac2TBejM_oqn",
        "colab_type": "text"
      },
      "source": [
        "# 3.1 ) Building the ConvNet Model"
      ]
    },
    {
      "cell_type": "code",
      "metadata": {
        "id": "KfDv23Yq7bZc",
        "colab_type": "code",
        "outputId": "670a2cba-1340-4134-b9dc-a89f13a352f3",
        "colab": {
          "base_uri": "https://localhost:8080/",
          "height": 171
        }
      },
      "source": [
        "# # modelling starts using a CNN.\n",
        "\n",
        "model = Sequential()\n",
        "model.add(Conv2D(filters = 32, kernel_size = (5,5),padding = 'Same',activation ='relu', input_shape = (150,150,3)))\n",
        "model.add(MaxPooling2D(pool_size=(2,2)))\n",
        "\n",
        "\n",
        "model.add(Conv2D(filters = 64, kernel_size = (3,3),padding = 'Same',activation ='relu'))\n",
        "model.add(MaxPooling2D(pool_size=(2,2), strides=(2,2)))\n",
        " \n",
        "\n",
        "model.add(Conv2D(filters =96, kernel_size = (3,3),padding = 'Same',activation ='relu'))\n",
        "model.add(MaxPooling2D(pool_size=(2,2), strides=(2,2)))\n",
        "\n",
        "model.add(Conv2D(filters = 96, kernel_size = (3,3),padding = 'Same',activation ='relu'))\n",
        "model.add(MaxPooling2D(pool_size=(2,2), strides=(2,2)))\n",
        "\n",
        "model.add(Flatten())\n",
        "model.add(Dense(512))\n",
        "model.add(Activation('relu'))\n",
        "model.add(Dense(21, activation = \"softmax\"))"
      ],
      "execution_count": 0,
      "outputs": [
        {
          "output_type": "stream",
          "text": [
            "WARNING:tensorflow:From /usr/local/lib/python3.6/dist-packages/keras/backend/tensorflow_backend.py:66: The name tf.get_default_graph is deprecated. Please use tf.compat.v1.get_default_graph instead.\n",
            "\n",
            "WARNING:tensorflow:From /usr/local/lib/python3.6/dist-packages/keras/backend/tensorflow_backend.py:541: The name tf.placeholder is deprecated. Please use tf.compat.v1.placeholder instead.\n",
            "\n",
            "WARNING:tensorflow:From /usr/local/lib/python3.6/dist-packages/keras/backend/tensorflow_backend.py:4432: The name tf.random_uniform is deprecated. Please use tf.random.uniform instead.\n",
            "\n",
            "WARNING:tensorflow:From /usr/local/lib/python3.6/dist-packages/keras/backend/tensorflow_backend.py:4267: The name tf.nn.max_pool is deprecated. Please use tf.nn.max_pool2d instead.\n",
            "\n"
          ],
          "name": "stdout"
        }
      ]
    },
    {
      "cell_type": "markdown",
      "metadata": {
        "id": "a--8PqlX_umH",
        "colab_type": "text"
      },
      "source": [
        "# 3.2 ) Using a LR Annealer"
      ]
    },
    {
      "cell_type": "code",
      "metadata": {
        "id": "yWB0P4F97lsQ",
        "colab_type": "code",
        "colab": {}
      },
      "source": [
        "batch_size=21\n",
        "epochs=50\n",
        "\n",
        "from keras.callbacks import ReduceLROnPlateau\n",
        "red_lr= ReduceLROnPlateau(monitor='val_acc',patience=3,verbose=1,factor=0.1)"
      ],
      "execution_count": 0,
      "outputs": []
    },
    {
      "cell_type": "markdown",
      "metadata": {
        "id": "ii7mBWmg_x8U",
        "colab_type": "text"
      },
      "source": [
        "# 3.3 ) Data Augmentation to prevent Overfitting\n"
      ]
    },
    {
      "cell_type": "code",
      "metadata": {
        "id": "wrVXoNxP7seJ",
        "colab_type": "code",
        "colab": {}
      },
      "source": [
        "datagen = ImageDataGenerator(\n",
        "        featurewise_center=False,  # set input mean to 0 over the dataset\n",
        "        samplewise_center=False,  # set each sample mean to 0\n",
        "        featurewise_std_normalization=False,  # divide inputs by std of the dataset\n",
        "        samplewise_std_normalization=False,  # divide each input by its std\n",
        "        zca_whitening=False,  # apply ZCA whitening\n",
        "        rotation_range=10,  # randomly rotate images in the range (degrees, 0 to 180)\n",
        "        zoom_range = 0.1, # Randomly zoom image \n",
        "        width_shift_range=0.2,  # randomly shift images horizontally (fraction of total width)\n",
        "        height_shift_range=0.2,  # randomly shift images vertically (fraction of total height)\n",
        "        horizontal_flip=True,  # randomly flip images\n",
        "        vertical_flip=False)  # randomly flip images\n",
        "\n",
        "\n",
        "datagen.fit(x_train)"
      ],
      "execution_count": 0,
      "outputs": []
    },
    {
      "cell_type": "markdown",
      "metadata": {
        "id": "7Fux6dRb_1G0",
        "colab_type": "text"
      },
      "source": [
        "# 3.4 ) Compiling the Keras Model & Summary"
      ]
    },
    {
      "cell_type": "code",
      "metadata": {
        "id": "WHVPZRd_7xP_",
        "colab_type": "code",
        "outputId": "5019f4ed-46cd-42b9-a27f-ba52826d5172",
        "colab": {
          "base_uri": "https://localhost:8080/",
          "height": 154
        }
      },
      "source": [
        "model.compile(optimizer=Adam(lr=0.001),loss='binary_crossentropy',metrics=['accuracy'])"
      ],
      "execution_count": 0,
      "outputs": [
        {
          "output_type": "stream",
          "text": [
            "WARNING:tensorflow:From /usr/local/lib/python3.6/dist-packages/keras/optimizers.py:793: The name tf.train.Optimizer is deprecated. Please use tf.compat.v1.train.Optimizer instead.\n",
            "\n",
            "WARNING:tensorflow:From /usr/local/lib/python3.6/dist-packages/keras/backend/tensorflow_backend.py:3657: The name tf.log is deprecated. Please use tf.math.log instead.\n",
            "\n",
            "WARNING:tensorflow:From /usr/local/lib/python3.6/dist-packages/tensorflow_core/python/ops/nn_impl.py:183: where (from tensorflow.python.ops.array_ops) is deprecated and will be removed in a future version.\n",
            "Instructions for updating:\n",
            "Use tf.where in 2.0, which has the same broadcast rule as np.where\n"
          ],
          "name": "stdout"
        }
      ]
    },
    {
      "cell_type": "code",
      "metadata": {
        "id": "BRjC5tVW7zDo",
        "colab_type": "code",
        "outputId": "3d7670d5-cbea-445c-fc6e-06e86c1af25f",
        "colab": {
          "base_uri": "https://localhost:8080/",
          "height": 554
        }
      },
      "source": [
        "model.summary()"
      ],
      "execution_count": 0,
      "outputs": [
        {
          "output_type": "stream",
          "text": [
            "Model: \"sequential_1\"\n",
            "_________________________________________________________________\n",
            "Layer (type)                 Output Shape              Param #   \n",
            "=================================================================\n",
            "conv2d_1 (Conv2D)            (None, 150, 150, 32)      2432      \n",
            "_________________________________________________________________\n",
            "max_pooling2d_1 (MaxPooling2 (None, 75, 75, 32)        0         \n",
            "_________________________________________________________________\n",
            "conv2d_2 (Conv2D)            (None, 75, 75, 64)        18496     \n",
            "_________________________________________________________________\n",
            "max_pooling2d_2 (MaxPooling2 (None, 37, 37, 64)        0         \n",
            "_________________________________________________________________\n",
            "conv2d_3 (Conv2D)            (None, 37, 37, 96)        55392     \n",
            "_________________________________________________________________\n",
            "max_pooling2d_3 (MaxPooling2 (None, 18, 18, 96)        0         \n",
            "_________________________________________________________________\n",
            "conv2d_4 (Conv2D)            (None, 18, 18, 96)        83040     \n",
            "_________________________________________________________________\n",
            "max_pooling2d_4 (MaxPooling2 (None, 9, 9, 96)          0         \n",
            "_________________________________________________________________\n",
            "flatten_1 (Flatten)          (None, 7776)              0         \n",
            "_________________________________________________________________\n",
            "dense_1 (Dense)              (None, 512)               3981824   \n",
            "_________________________________________________________________\n",
            "activation_1 (Activation)    (None, 512)               0         \n",
            "_________________________________________________________________\n",
            "dense_2 (Dense)              (None, 21)                10773     \n",
            "=================================================================\n",
            "Total params: 4,151,957\n",
            "Trainable params: 4,151,957\n",
            "Non-trainable params: 0\n",
            "_________________________________________________________________\n"
          ],
          "name": "stdout"
        }
      ]
    },
    {
      "cell_type": "markdown",
      "metadata": {
        "id": "4sXGvVh7_49c",
        "colab_type": "text"
      },
      "source": [
        "# 3.5 ) Fitting on the Training set and making predcitons on the Validation set"
      ]
    },
    {
      "cell_type": "code",
      "metadata": {
        "id": "rBzDssSu71S3",
        "colab_type": "code",
        "outputId": "80567e92-a3ab-4c0d-d957-b71e4d41780d",
        "colab": {
          "base_uri": "https://localhost:8080/",
          "height": 1000
        }
      },
      "source": [
        "History = model.fit_generator(datagen.flow(x_train,y_train, batch_size=batch_size),\n",
        "                              epochs = epochs, validation_data = (x_test,y_test), \n",
        "                              verbose = 1, steps_per_epoch=x_train.shape[0] // batch_size)\n",
        "# model.fit(x_train,y_train,epochs=epochs,batch_size=batch_size,validation_data = (x_test,y_test))"
      ],
      "execution_count": 0,
      "outputs": [
        {
          "output_type": "stream",
          "text": [
            "WARNING:tensorflow:From /usr/local/lib/python3.6/dist-packages/keras/backend/tensorflow_backend.py:1033: The name tf.assign_add is deprecated. Please use tf.compat.v1.assign_add instead.\n",
            "\n",
            "WARNING:tensorflow:From /usr/local/lib/python3.6/dist-packages/keras/backend/tensorflow_backend.py:1020: The name tf.assign is deprecated. Please use tf.compat.v1.assign instead.\n",
            "\n",
            "WARNING:tensorflow:From /usr/local/lib/python3.6/dist-packages/keras/backend/tensorflow_backend.py:3005: The name tf.Session is deprecated. Please use tf.compat.v1.Session instead.\n",
            "\n",
            "Epoch 1/50\n",
            "WARNING:tensorflow:From /usr/local/lib/python3.6/dist-packages/keras/backend/tensorflow_backend.py:190: The name tf.get_default_session is deprecated. Please use tf.compat.v1.get_default_session instead.\n",
            "\n",
            "WARNING:tensorflow:From /usr/local/lib/python3.6/dist-packages/keras/backend/tensorflow_backend.py:197: The name tf.ConfigProto is deprecated. Please use tf.compat.v1.ConfigProto instead.\n",
            "\n",
            "WARNING:tensorflow:From /usr/local/lib/python3.6/dist-packages/keras/backend/tensorflow_backend.py:207: The name tf.global_variables is deprecated. Please use tf.compat.v1.global_variables instead.\n",
            "\n",
            "WARNING:tensorflow:From /usr/local/lib/python3.6/dist-packages/keras/backend/tensorflow_backend.py:216: The name tf.is_variable_initialized is deprecated. Please use tf.compat.v1.is_variable_initialized instead.\n",
            "\n",
            "WARNING:tensorflow:From /usr/local/lib/python3.6/dist-packages/keras/backend/tensorflow_backend.py:223: The name tf.variables_initializer is deprecated. Please use tf.compat.v1.variables_initializer instead.\n",
            "\n",
            "75/75 [==============================] - 22s 288ms/step - loss: 0.1902 - acc: 0.9523 - val_loss: 0.1789 - val_acc: 0.9524\n",
            "Epoch 2/50\n",
            "75/75 [==============================] - 8s 108ms/step - loss: 0.1711 - acc: 0.9522 - val_loss: 0.1587 - val_acc: 0.9527\n",
            "Epoch 3/50\n",
            "75/75 [==============================] - 8s 110ms/step - loss: 0.1546 - acc: 0.9537 - val_loss: 0.1529 - val_acc: 0.9540\n",
            "Epoch 4/50\n",
            "75/75 [==============================] - 8s 111ms/step - loss: 0.1384 - acc: 0.9555 - val_loss: 0.1239 - val_acc: 0.9576\n",
            "Epoch 5/50\n",
            "75/75 [==============================] - 8s 109ms/step - loss: 0.1238 - acc: 0.9582 - val_loss: 0.1259 - val_acc: 0.9562\n",
            "Epoch 6/50\n",
            "75/75 [==============================] - 8s 110ms/step - loss: 0.1154 - acc: 0.9602 - val_loss: 0.1029 - val_acc: 0.9612\n",
            "Epoch 7/50\n",
            "75/75 [==============================] - 8s 110ms/step - loss: 0.1053 - acc: 0.9630 - val_loss: 0.0930 - val_acc: 0.9647\n",
            "Epoch 8/50\n",
            "75/75 [==============================] - 8s 110ms/step - loss: 0.0975 - acc: 0.9645 - val_loss: 0.0876 - val_acc: 0.9673\n",
            "Epoch 9/50\n",
            "75/75 [==============================] - 8s 107ms/step - loss: 0.0923 - acc: 0.9665 - val_loss: 0.0768 - val_acc: 0.9711\n",
            "Epoch 10/50\n",
            "75/75 [==============================] - 8s 109ms/step - loss: 0.0843 - acc: 0.9686 - val_loss: 0.0719 - val_acc: 0.9722\n",
            "Epoch 11/50\n",
            "75/75 [==============================] - 8s 109ms/step - loss: 0.0867 - acc: 0.9683 - val_loss: 0.0793 - val_acc: 0.9699\n",
            "Epoch 12/50\n",
            "75/75 [==============================] - 8s 108ms/step - loss: 0.0732 - acc: 0.9717 - val_loss: 0.0784 - val_acc: 0.9716\n",
            "Epoch 13/50\n",
            "75/75 [==============================] - 8s 109ms/step - loss: 0.0692 - acc: 0.9746 - val_loss: 0.0605 - val_acc: 0.9759\n",
            "Epoch 14/50\n",
            "75/75 [==============================] - 8s 111ms/step - loss: 0.0702 - acc: 0.9741 - val_loss: 0.0614 - val_acc: 0.9757\n",
            "Epoch 15/50\n",
            "75/75 [==============================] - 8s 110ms/step - loss: 0.0603 - acc: 0.9766 - val_loss: 0.0617 - val_acc: 0.9775\n",
            "Epoch 16/50\n",
            "75/75 [==============================] - 8s 110ms/step - loss: 0.0639 - acc: 0.9767 - val_loss: 0.0762 - val_acc: 0.9710\n",
            "Epoch 17/50\n",
            "75/75 [==============================] - 8s 111ms/step - loss: 0.0636 - acc: 0.9758 - val_loss: 0.0641 - val_acc: 0.9752\n",
            "Epoch 18/50\n",
            "75/75 [==============================] - 8s 108ms/step - loss: 0.0524 - acc: 0.9793 - val_loss: 0.0493 - val_acc: 0.9825\n",
            "Epoch 19/50\n",
            "75/75 [==============================] - 8s 111ms/step - loss: 0.0508 - acc: 0.9803 - val_loss: 0.0594 - val_acc: 0.9763\n",
            "Epoch 20/50\n",
            "75/75 [==============================] - 8s 108ms/step - loss: 0.0504 - acc: 0.9804 - val_loss: 0.0532 - val_acc: 0.9797\n",
            "Epoch 21/50\n",
            "75/75 [==============================] - 8s 111ms/step - loss: 0.0459 - acc: 0.9830 - val_loss: 0.0569 - val_acc: 0.9780\n",
            "Epoch 22/50\n",
            "75/75 [==============================] - 8s 111ms/step - loss: 0.0484 - acc: 0.9813 - val_loss: 0.0469 - val_acc: 0.9825\n",
            "Epoch 23/50\n",
            "75/75 [==============================] - 8s 109ms/step - loss: 0.0419 - acc: 0.9834 - val_loss: 0.0429 - val_acc: 0.9829\n",
            "Epoch 24/50\n",
            "75/75 [==============================] - 8s 109ms/step - loss: 0.0428 - acc: 0.9833 - val_loss: 0.0569 - val_acc: 0.9793\n",
            "Epoch 25/50\n",
            "75/75 [==============================] - 8s 109ms/step - loss: 0.0428 - acc: 0.9834 - val_loss: 0.0435 - val_acc: 0.9839\n",
            "Epoch 26/50\n",
            "75/75 [==============================] - 8s 110ms/step - loss: 0.0385 - acc: 0.9852 - val_loss: 0.0529 - val_acc: 0.9823\n",
            "Epoch 27/50\n",
            "75/75 [==============================] - 8s 107ms/step - loss: 0.0443 - acc: 0.9828 - val_loss: 0.0732 - val_acc: 0.9769\n",
            "Epoch 28/50\n",
            "75/75 [==============================] - 8s 108ms/step - loss: 0.0381 - acc: 0.9858 - val_loss: 0.0440 - val_acc: 0.9834\n",
            "Epoch 29/50\n",
            "75/75 [==============================] - 8s 110ms/step - loss: 0.0353 - acc: 0.9868 - val_loss: 0.0497 - val_acc: 0.9817\n",
            "Epoch 30/50\n",
            "75/75 [==============================] - 8s 109ms/step - loss: 0.0390 - acc: 0.9853 - val_loss: 0.0448 - val_acc: 0.9832\n",
            "Epoch 31/50\n",
            "75/75 [==============================] - 8s 107ms/step - loss: 0.0341 - acc: 0.9871 - val_loss: 0.0399 - val_acc: 0.9853\n",
            "Epoch 32/50\n",
            "75/75 [==============================] - 8s 110ms/step - loss: 0.0297 - acc: 0.9883 - val_loss: 0.0508 - val_acc: 0.9836\n",
            "Epoch 33/50\n",
            "75/75 [==============================] - 8s 109ms/step - loss: 0.0352 - acc: 0.9868 - val_loss: 0.0378 - val_acc: 0.9868\n",
            "Epoch 34/50\n",
            "75/75 [==============================] - 8s 108ms/step - loss: 0.0296 - acc: 0.9888 - val_loss: 0.0408 - val_acc: 0.9859\n",
            "Epoch 35/50\n",
            "75/75 [==============================] - 8s 107ms/step - loss: 0.0320 - acc: 0.9870 - val_loss: 0.0478 - val_acc: 0.9821\n",
            "Epoch 36/50\n",
            "75/75 [==============================] - 8s 110ms/step - loss: 0.0254 - acc: 0.9901 - val_loss: 0.0411 - val_acc: 0.9868\n",
            "Epoch 37/50\n",
            "75/75 [==============================] - 8s 109ms/step - loss: 0.0262 - acc: 0.9908 - val_loss: 0.0400 - val_acc: 0.9861\n",
            "Epoch 38/50\n",
            "75/75 [==============================] - 8s 108ms/step - loss: 0.0270 - acc: 0.9901 - val_loss: 0.0446 - val_acc: 0.9857\n",
            "Epoch 39/50\n",
            "75/75 [==============================] - 8s 111ms/step - loss: 0.0234 - acc: 0.9908 - val_loss: 0.0358 - val_acc: 0.9876\n",
            "Epoch 40/50\n",
            "75/75 [==============================] - 8s 108ms/step - loss: 0.0288 - acc: 0.9888 - val_loss: 0.0430 - val_acc: 0.9838\n",
            "Epoch 41/50\n",
            "75/75 [==============================] - 8s 110ms/step - loss: 0.0223 - acc: 0.9912 - val_loss: 0.0389 - val_acc: 0.9866\n",
            "Epoch 42/50\n",
            "75/75 [==============================] - 8s 108ms/step - loss: 0.0233 - acc: 0.9911 - val_loss: 0.0451 - val_acc: 0.9847\n",
            "Epoch 43/50\n",
            "75/75 [==============================] - 8s 111ms/step - loss: 0.0241 - acc: 0.9905 - val_loss: 0.0408 - val_acc: 0.9864\n",
            "Epoch 44/50\n",
            "75/75 [==============================] - 8s 108ms/step - loss: 0.0223 - acc: 0.9911 - val_loss: 0.0401 - val_acc: 0.9872\n",
            "Epoch 45/50\n",
            "75/75 [==============================] - 8s 108ms/step - loss: 0.0228 - acc: 0.9917 - val_loss: 0.0419 - val_acc: 0.9847\n",
            "Epoch 46/50\n",
            "75/75 [==============================] - 8s 107ms/step - loss: 0.0186 - acc: 0.9934 - val_loss: 0.0420 - val_acc: 0.9871\n",
            "Epoch 47/50\n",
            "75/75 [==============================] - 8s 109ms/step - loss: 0.0216 - acc: 0.9923 - val_loss: 0.0379 - val_acc: 0.9882\n",
            "Epoch 48/50\n",
            "75/75 [==============================] - 8s 109ms/step - loss: 0.0228 - acc: 0.9919 - val_loss: 0.0442 - val_acc: 0.9861\n",
            "Epoch 49/50\n",
            "75/75 [==============================] - 8s 107ms/step - loss: 0.0175 - acc: 0.9938 - val_loss: 0.0424 - val_acc: 0.9870\n",
            "Epoch 50/50\n",
            "75/75 [==============================] - 8s 108ms/step - loss: 0.0206 - acc: 0.9925 - val_loss: 0.0391 - val_acc: 0.9890\n"
          ],
          "name": "stdout"
        }
      ]
    },
    {
      "cell_type": "markdown",
      "metadata": {
        "id": "_lmetVPa_-Sf",
        "colab_type": "text"
      },
      "source": [
        "# 4 ) Evaluating the Model Performance"
      ]
    },
    {
      "cell_type": "code",
      "metadata": {
        "id": "vf1aKD-y75Rp",
        "colab_type": "code",
        "outputId": "a55e7a43-223c-4522-d03d-2511cb9b98f7",
        "colab": {
          "base_uri": "https://localhost:8080/",
          "height": 317
        }
      },
      "source": [
        "plt.plot(History.history['loss'])\n",
        "plt.plot(History.history['val_loss'])\n",
        "plt.title('Model Loss')\n",
        "plt.ylabel('Loss')\n",
        "plt.xlabel('Epochs')\n",
        "plt.legend(['train', 'test'])\n",
        "plt.show()"
      ],
      "execution_count": 0,
      "outputs": [
        {
          "output_type": "display_data",
          "data": {
            "image/png": "[encoded data removed]",
            "text/plain": [
              "<Figure size 432x288 with 1 Axes>"
            ]
          },
          "metadata": {
            "tags": []
          }
        }
      ]
    },
    {
      "cell_type": "code",
      "metadata": {
        "id": "2rKOujgO7-Dg",
        "colab_type": "code",
        "outputId": "0ee01e59-0a46-437a-9a9a-543aaa1ea73a",
        "colab": {
          "base_uri": "https://localhost:8080/",
          "height": 317
        }
      },
      "source": [
        "plt.plot(History.history['acc'])\n",
        "plt.plot(History.history['val_acc'])\n",
        "plt.title('Model Accuracy')\n",
        "plt.ylabel('Accuracy')\n",
        "plt.xlabel('Epochs')\n",
        "plt.legend(['train', 'test'])\n",
        "plt.show()\n"
      ],
      "execution_count": 0,
      "outputs": [
        {
          "output_type": "display_data",
          "data": {
            "image/png": "[encoded data removed]",
            "text/plain": [
              "<Figure size 432x288 with 1 Axes>"
            ]
          },
          "metadata": {
            "tags": []
          }
        }
      ]
    },
    {
      "cell_type": "code",
      "metadata": {
        "id": "r1THS1Pq9lW-",
        "colab_type": "code",
        "outputId": "26c6626b-631f-41cf-8eb5-2958bbe041ac",
        "colab": {
          "base_uri": "https://localhost:8080/",
          "height": 550
        }
      },
      "source": [
        "# confusion matrix\n",
        "import seaborn as sns\n",
        "# Predict the values from the validation dataset\n",
        "Y_pred = model.predict(x_test)\n",
        "# Convert predictions classes to one hot vectors \n",
        "Y_pred_classes = np.argmax(Y_pred,axis = 1) \n",
        "# Convert validation observations to one hot vectors\n",
        "Y_true = np.argmax(y_test,axis = 1) \n",
        "# compute the confusion matrix\n",
        "confusion_mtx = confusion_matrix(Y_true, Y_pred_classes) \n",
        "# plot the confusion matrix\n",
        "f,ax = plt.subplots(figsize=(8, 8))\n",
        "sns.heatmap(confusion_mtx, annot=True, linewidths=0.01,cmap=\"Greens\",linecolor=\"gray\", fmt= '.1f',ax=ax)\n",
        "plt.xlabel(\"Predicted Label\")\n",
        "plt.ylabel(\"True Label\")\n",
        "plt.title(\"Confusion Matrix\")\n",
        "plt.show()"
      ],
      "execution_count": 0,
      "outputs": [
        {
          "output_type": "display_data",
          "data": {
            "image/png": "[encoded data removed]",
            "text/plain": [
              "<Figure size 576x576 with 2 Axes>"
            ]
          },
          "metadata": {
            "tags": []
          }
        }
      ]
    },
    {
      "cell_type": "code",
      "metadata": {
        "id": "l49bGNQl9qib",
        "colab_type": "code",
        "colab": {}
      },
      "source": [
        ""
      ],
      "execution_count": 0,
      "outputs": []
    }
  ]
}